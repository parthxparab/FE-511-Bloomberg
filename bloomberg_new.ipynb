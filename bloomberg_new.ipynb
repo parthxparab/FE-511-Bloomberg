{
 "cells": [
  {
   "cell_type": "markdown",
   "metadata": {},
   "source": [
    "## FE 511 - Final Project"
   ]
  },
  {
   "cell_type": "markdown",
   "metadata": {},
   "source": [
    "#### importing required packages"
   ]
  },
  {
   "cell_type": "code",
   "execution_count": 18,
   "metadata": {},
   "outputs": [],
   "source": [
    "import pandas as pd\n",
    "import warnings\n",
    "from sklearn.linear_model import LinearRegression\n",
    "import pandas as pd\n",
    "from pandas.core.common import SettingWithCopyWarning\n",
    "import numpy as np\n",
    "from sklearn import datasets, linear_model\n",
    "import statsmodels.api as sm\n",
    "from scipy import stats\n",
    "import seaborn as sns\n",
    "import matplotlib.pyplot as plt\n",
    "from scipy.stats import norm  \n",
    "import matplotlib.pyplot as plt\n",
    "import numpy as np\n",
    "import scipy.stats as stats\n",
    "import math"
   ]
  },
  {
   "cell_type": "markdown",
   "metadata": {},
   "source": [
    "#### Dismissing any warnings which may arise in the code"
   ]
  },
  {
   "cell_type": "code",
   "execution_count": 19,
   "metadata": {},
   "outputs": [],
   "source": [
    "warnings.simplefilter(action=\"ignore\", category=SettingWithCopyWarning)\n"
   ]
  },
  {
   "cell_type": "markdown",
   "metadata": {},
   "source": [
    "#### Importing Excel file of data gathered from bloomberg terminal, here we have last 10 year of S&P Index and Apple Stock price"
   ]
  },
  {
   "cell_type": "code",
   "execution_count": 20,
   "metadata": {},
   "outputs": [],
   "source": [
    "df = pd.read_excel('bloomberg.xlsx', index_col=0)"
   ]
  },
  {
   "cell_type": "code",
   "execution_count": 21,
   "metadata": {},
   "outputs": [
    {
     "data": {
      "text/html": [
       "<div>\n",
       "<style scoped>\n",
       "    .dataframe tbody tr th:only-of-type {\n",
       "        vertical-align: middle;\n",
       "    }\n",
       "\n",
       "    .dataframe tbody tr th {\n",
       "        vertical-align: top;\n",
       "    }\n",
       "\n",
       "    .dataframe thead th {\n",
       "        text-align: right;\n",
       "    }\n",
       "</style>\n",
       "<table border=\"1\" class=\"dataframe\">\n",
       "  <thead>\n",
       "    <tr style=\"text-align: right;\">\n",
       "      <th></th>\n",
       "      <th>Apple</th>\n",
       "      <th>S&amp;P 500</th>\n",
       "    </tr>\n",
       "  </thead>\n",
       "  <tbody>\n",
       "    <tr>\n",
       "      <th>2011-05-13</th>\n",
       "      <td>12.161</td>\n",
       "      <td>1337.77</td>\n",
       "    </tr>\n",
       "    <tr>\n",
       "      <th>2011-05-16</th>\n",
       "      <td>11.904</td>\n",
       "      <td>1329.47</td>\n",
       "    </tr>\n",
       "    <tr>\n",
       "      <th>2011-05-17</th>\n",
       "      <td>12.005</td>\n",
       "      <td>1328.98</td>\n",
       "    </tr>\n",
       "    <tr>\n",
       "      <th>2011-05-18</th>\n",
       "      <td>12.138</td>\n",
       "      <td>1340.68</td>\n",
       "    </tr>\n",
       "    <tr>\n",
       "      <th>2011-05-19</th>\n",
       "      <td>12.162</td>\n",
       "      <td>1343.60</td>\n",
       "    </tr>\n",
       "  </tbody>\n",
       "</table>\n",
       "</div>"
      ],
      "text/plain": [
       "             Apple  S&P 500\n",
       "2011-05-13  12.161  1337.77\n",
       "2011-05-16  11.904  1329.47\n",
       "2011-05-17  12.005  1328.98\n",
       "2011-05-18  12.138  1340.68\n",
       "2011-05-19  12.162  1343.60"
      ]
     },
     "execution_count": 21,
     "metadata": {},
     "output_type": "execute_result"
    }
   ],
   "source": [
    "df.head()"
   ]
  },
  {
   "cell_type": "markdown",
   "metadata": {},
   "source": [
    "#### We now added seperate columns to calculate the returns of S&P and Apple"
   ]
  },
  {
   "cell_type": "code",
   "execution_count": 22,
   "metadata": {},
   "outputs": [
    {
     "data": {
      "text/html": [
       "<div>\n",
       "<style scoped>\n",
       "    .dataframe tbody tr th:only-of-type {\n",
       "        vertical-align: middle;\n",
       "    }\n",
       "\n",
       "    .dataframe tbody tr th {\n",
       "        vertical-align: top;\n",
       "    }\n",
       "\n",
       "    .dataframe thead th {\n",
       "        text-align: right;\n",
       "    }\n",
       "</style>\n",
       "<table border=\"1\" class=\"dataframe\">\n",
       "  <thead>\n",
       "    <tr style=\"text-align: right;\">\n",
       "      <th></th>\n",
       "      <th>Apple</th>\n",
       "      <th>S&amp;P 500 Returns</th>\n",
       "      <th>S&amp;P 500</th>\n",
       "      <th>Apple Returns</th>\n",
       "    </tr>\n",
       "  </thead>\n",
       "  <tbody>\n",
       "    <tr>\n",
       "      <th>2011-05-13</th>\n",
       "      <td>12.161</td>\n",
       "      <td></td>\n",
       "      <td>1337.77</td>\n",
       "      <td></td>\n",
       "    </tr>\n",
       "    <tr>\n",
       "      <th>2011-05-16</th>\n",
       "      <td>11.904</td>\n",
       "      <td></td>\n",
       "      <td>1329.47</td>\n",
       "      <td></td>\n",
       "    </tr>\n",
       "    <tr>\n",
       "      <th>2011-05-17</th>\n",
       "      <td>12.005</td>\n",
       "      <td></td>\n",
       "      <td>1328.98</td>\n",
       "      <td></td>\n",
       "    </tr>\n",
       "    <tr>\n",
       "      <th>2011-05-18</th>\n",
       "      <td>12.138</td>\n",
       "      <td></td>\n",
       "      <td>1340.68</td>\n",
       "      <td></td>\n",
       "    </tr>\n",
       "    <tr>\n",
       "      <th>2011-05-19</th>\n",
       "      <td>12.162</td>\n",
       "      <td></td>\n",
       "      <td>1343.60</td>\n",
       "      <td></td>\n",
       "    </tr>\n",
       "  </tbody>\n",
       "</table>\n",
       "</div>"
      ],
      "text/plain": [
       "             Apple S&P 500 Returns  S&P 500 Apple Returns\n",
       "2011-05-13  12.161                  1337.77              \n",
       "2011-05-16  11.904                  1329.47              \n",
       "2011-05-17  12.005                  1328.98              \n",
       "2011-05-18  12.138                  1340.68              \n",
       "2011-05-19  12.162                  1343.60              "
      ]
     },
     "execution_count": 22,
     "metadata": {},
     "output_type": "execute_result"
    }
   ],
   "source": [
    "df.insert(loc=1, column='S&P 500 Returns', value=['' for i in range(df.shape[0])])\n",
    "df.insert(loc=3, column='Apple Returns', value=['' for i in range(df.shape[0])])\n",
    "df.head()"
   ]
  },
  {
   "cell_type": "code",
   "execution_count": 23,
   "metadata": {},
   "outputs": [],
   "source": [
    "df['S&P 500 Returns'][0] = 0\n",
    "df['Apple Returns'][0] = 0\n",
    "\n",
    "for i in range(len(df)-1): \n",
    "    df['S&P 500 Returns'][i+1] = (df['S&P 500'][i+1] - df['S&P 500'][i])/df['S&P 500'][i]\n",
    "    df['Apple Returns'][i+1] = (df['Apple'][i+1] - df['Apple'][i])/df['Apple'][i]"
   ]
  },
  {
   "cell_type": "code",
   "execution_count": 24,
   "metadata": {},
   "outputs": [
    {
     "data": {
      "text/html": [
       "<div>\n",
       "<style scoped>\n",
       "    .dataframe tbody tr th:only-of-type {\n",
       "        vertical-align: middle;\n",
       "    }\n",
       "\n",
       "    .dataframe tbody tr th {\n",
       "        vertical-align: top;\n",
       "    }\n",
       "\n",
       "    .dataframe thead th {\n",
       "        text-align: right;\n",
       "    }\n",
       "</style>\n",
       "<table border=\"1\" class=\"dataframe\">\n",
       "  <thead>\n",
       "    <tr style=\"text-align: right;\">\n",
       "      <th></th>\n",
       "      <th>Apple</th>\n",
       "      <th>S&amp;P 500 Returns</th>\n",
       "      <th>S&amp;P 500</th>\n",
       "      <th>Apple Returns</th>\n",
       "    </tr>\n",
       "  </thead>\n",
       "  <tbody>\n",
       "    <tr>\n",
       "      <th>2011-05-13</th>\n",
       "      <td>12.161</td>\n",
       "      <td>0</td>\n",
       "      <td>1337.77</td>\n",
       "      <td>0</td>\n",
       "    </tr>\n",
       "    <tr>\n",
       "      <th>2011-05-16</th>\n",
       "      <td>11.904</td>\n",
       "      <td>-0.00620436</td>\n",
       "      <td>1329.47</td>\n",
       "      <td>-0.0211331</td>\n",
       "    </tr>\n",
       "    <tr>\n",
       "      <th>2011-05-17</th>\n",
       "      <td>12.005</td>\n",
       "      <td>-0.000368568</td>\n",
       "      <td>1328.98</td>\n",
       "      <td>0.00848454</td>\n",
       "    </tr>\n",
       "    <tr>\n",
       "      <th>2011-05-18</th>\n",
       "      <td>12.138</td>\n",
       "      <td>0.00880374</td>\n",
       "      <td>1340.68</td>\n",
       "      <td>0.0110787</td>\n",
       "    </tr>\n",
       "    <tr>\n",
       "      <th>2011-05-19</th>\n",
       "      <td>12.162</td>\n",
       "      <td>0.002178</td>\n",
       "      <td>1343.60</td>\n",
       "      <td>0.00197726</td>\n",
       "    </tr>\n",
       "  </tbody>\n",
       "</table>\n",
       "</div>"
      ],
      "text/plain": [
       "             Apple S&P 500 Returns  S&P 500 Apple Returns\n",
       "2011-05-13  12.161               0  1337.77             0\n",
       "2011-05-16  11.904     -0.00620436  1329.47    -0.0211331\n",
       "2011-05-17  12.005    -0.000368568  1328.98    0.00848454\n",
       "2011-05-18  12.138      0.00880374  1340.68     0.0110787\n",
       "2011-05-19  12.162        0.002178  1343.60    0.00197726"
      ]
     },
     "execution_count": 24,
     "metadata": {},
     "output_type": "execute_result"
    }
   ],
   "source": [
    "df.head()"
   ]
  },
  {
   "cell_type": "markdown",
   "metadata": {},
   "source": [
    "### EXPLORATORY DATA ANALYSIS"
   ]
  },
  {
   "cell_type": "markdown",
   "metadata": {},
   "source": [
    "##### We only consider the return columns for our EDA"
   ]
  },
  {
   "cell_type": "code",
   "execution_count": 33,
   "metadata": {},
   "outputs": [
    {
     "data": {
      "text/html": [
       "<div>\n",
       "<style scoped>\n",
       "    .dataframe tbody tr th:only-of-type {\n",
       "        vertical-align: middle;\n",
       "    }\n",
       "\n",
       "    .dataframe tbody tr th {\n",
       "        vertical-align: top;\n",
       "    }\n",
       "\n",
       "    .dataframe thead th {\n",
       "        text-align: right;\n",
       "    }\n",
       "</style>\n",
       "<table border=\"1\" class=\"dataframe\">\n",
       "  <thead>\n",
       "    <tr style=\"text-align: right;\">\n",
       "      <th></th>\n",
       "      <th>S&amp;P 500 Returns</th>\n",
       "      <th>Apple Returns</th>\n",
       "    </tr>\n",
       "  </thead>\n",
       "  <tbody>\n",
       "    <tr>\n",
       "      <th>2011-05-16</th>\n",
       "      <td>-0.00620436</td>\n",
       "      <td>-0.0211331</td>\n",
       "    </tr>\n",
       "    <tr>\n",
       "      <th>2011-05-17</th>\n",
       "      <td>-0.000368568</td>\n",
       "      <td>0.00848454</td>\n",
       "    </tr>\n",
       "    <tr>\n",
       "      <th>2011-05-18</th>\n",
       "      <td>0.00880374</td>\n",
       "      <td>0.0110787</td>\n",
       "    </tr>\n",
       "    <tr>\n",
       "      <th>2011-05-19</th>\n",
       "      <td>0.002178</td>\n",
       "      <td>0.00197726</td>\n",
       "    </tr>\n",
       "    <tr>\n",
       "      <th>2011-05-20</th>\n",
       "      <td>-0.0076883</td>\n",
       "      <td>-0.0156224</td>\n",
       "    </tr>\n",
       "  </tbody>\n",
       "</table>\n",
       "</div>"
      ],
      "text/plain": [
       "           S&P 500 Returns Apple Returns\n",
       "2011-05-16     -0.00620436    -0.0211331\n",
       "2011-05-17    -0.000368568    0.00848454\n",
       "2011-05-18      0.00880374     0.0110787\n",
       "2011-05-19        0.002178    0.00197726\n",
       "2011-05-20      -0.0076883    -0.0156224"
      ]
     },
     "execution_count": 33,
     "metadata": {},
     "output_type": "execute_result"
    }
   ],
   "source": [
    "df_returns = df.iloc[1:,[1,3]]\n",
    "df_prices = df.iloc[1:,[0,2]]\n",
    "df_returns.head()"
   ]
  },
  {
   "cell_type": "markdown",
   "metadata": {},
   "source": [
    "#### Time Series Plot of S&P and Apple Price"
   ]
  },
  {
   "cell_type": "code",
   "execution_count": 35,
   "metadata": {},
   "outputs": [
    {
     "data": {
      "text/plain": [
       "Text(0.5, 1.0, 'Apple')"
      ]
     },
     "execution_count": 35,
     "metadata": {},
     "output_type": "execute_result"
    },
    {
     "data": {
      "image/png": "[encoded data removed]",
      "text/plain": [
       "<Figure size 504x504 with 2 Axes>"
      ]
     },
     "metadata": {
      "needs_background": "light"
     },
     "output_type": "display_data"
    }
   ],
   "source": [
    "figure, axes = plt.subplots(nrows=2, ncols=1, figsize =(7,7))\n",
    "\n",
    "\n",
    "axes[0].plot(df_prices['S&P 500'])\n",
    "axes[0].set_title('S&P500')\n",
    "axes[1].plot(df_prices['Apple'])\n",
    "axes[1].set_title('Apple')\n"
   ]
  },
  {
   "cell_type": "markdown",
   "metadata": {},
   "source": [
    "#### Time Series Plot of S&P and Apple Returns"
   ]
  },
  {
   "cell_type": "code",
   "execution_count": 36,
   "metadata": {},
   "outputs": [
    {
     "data": {
      "text/plain": [
       "Text(0.5, 1.0, 'Apple')"
      ]
     },
     "execution_count": 36,
     "metadata": {},
     "output_type": "execute_result"
    },
    {
     "data": {
      "image/png": "[encoded data removed]",
      "text/plain": [
       "<Figure size 504x504 with 2 Axes>"
      ]
     },
     "metadata": {
      "needs_background": "light"
     },
     "output_type": "display_data"
    }
   ],
   "source": [
    "figure, axes = plt.subplots(nrows=2, ncols=1, figsize =(7,7))\n",
    "\n",
    "\n",
    "axes[0].plot(df_returns['S&P 500 Returns'])\n",
    "axes[0].set_title('S&P500')\n",
    "axes[1].plot(df_returns['Apple Returns'])\n",
    "axes[1].set_title('Apple')"
   ]
  },
  {
   "cell_type": "markdown",
   "metadata": {},
   "source": [
    "#### Plotting Comparison of Returns Distribution with a Normal Distribution for S&P 500"
   ]
  },
  {
   "cell_type": "code",
   "execution_count": 37,
   "metadata": {},
   "outputs": [
    {
     "data": {
      "image/png": "[encoded data removed]",
      "text/plain": [
       "<Figure size 432x288 with 1 Axes>"
      ]
     },
     "metadata": {
      "needs_background": "light"
     },
     "output_type": "display_data"
    }
   ],
   "source": [
    "from scipy.stats import norm\n",
    "import statistics\n",
    "  \n",
    "df_returns['S&P 500 Returns'] = df_returns['S&P 500 Returns'].astype(float)\n",
    "df_returns['Apple Returns'] = df_returns['Apple Returns'].astype(float)\n",
    "    \n",
    "lst = []\n",
    "x = (df_returns['S&P 500 Returns'].values)\n",
    "for i in x: \n",
    "    lst.append(round(i,3))\n",
    "lst = np.asarray(lst)\n",
    "\n",
    "mu, std = norm.fit(lst)\n",
    "# Plot the histogram.\n",
    "plt.hist(lst, bins=25, density=True, alpha=0.6, color='white')\n",
    "xmin, xmax = plt.xlim()\n",
    "x = np.linspace(xmin, xmax, 100)\n",
    "p = norm.pdf(x, mu, std)\n",
    "plt.plot(x, p, 'k', linewidth=2,color='blue', label = \"Normal Distribution\")\n",
    "title = \"Comparison of Normal Distribution and S&P Returns Distribution\" \n",
    "plt.title(title)\n",
    "df_returns['S&P 500 Returns'].plot.kde(color = 'red', label = 'S&P returns distribution')\n",
    "plt.legend()\n",
    "plt.show()"
   ]
  },
  {
   "cell_type": "markdown",
   "metadata": {},
   "source": [
    "#### Plotting Comparison of Returns Distribution with a Normal Distribution for Apple"
   ]
  },
  {
   "cell_type": "code",
   "execution_count": 38,
   "metadata": {},
   "outputs": [
    {
     "data": {
      "image/png": "[encoded data removed]",
      "text/plain": [
       "<Figure size 432x288 with 1 Axes>"
      ]
     },
     "metadata": {
      "needs_background": "light"
     },
     "output_type": "display_data"
    }
   ],
   "source": [
    "lst = []\n",
    "x = (df_returns['Apple Returns'].values)\n",
    "for i in x: \n",
    "    lst.append(round(i,3))\n",
    "lst = np.asarray(lst)\n",
    "\n",
    "mu, std = norm.fit(lst)\n",
    "# Plot the histogram.\n",
    "plt.hist(lst, bins=25, density=True, alpha=0.6, color='white')\n",
    "xmin, xmax = plt.xlim()\n",
    "x = np.linspace(xmin, xmax, 100)\n",
    "p = norm.pdf(x, mu, std)\n",
    "plt.plot(x, p, 'k', linewidth=2,color='blue', label = \"Normal Distribution\")\n",
    "title = \"Comparison of Normal Distribution and Apple Returns Distribution\"\n",
    "plt.title(title)\n",
    "df_returns['Apple Returns'].plot.kde(color = 'red', label = \"Apple Returns Distribution\")\n",
    "plt.legend()\n",
    "plt.show()"
   ]
  },
  {
   "cell_type": "code",
   "execution_count": 39,
   "metadata": {},
   "outputs": [
    {
     "data": {
      "text/plain": [
       "0.09382765710199331"
      ]
     },
     "execution_count": 39,
     "metadata": {},
     "output_type": "execute_result"
    }
   ],
   "source": [
    "max(df_returns['S&P 500 Returns'])"
   ]
  },
  {
   "cell_type": "markdown",
   "metadata": {},
   "source": [
    "#### Performing regression where S&P 500 returns is the independent X variable and Apple returns is the dependent Y variable."
   ]
  },
  {
   "cell_type": "code",
   "execution_count": 40,
   "metadata": {},
   "outputs": [
    {
     "name": "stdout",
     "output_type": "stream",
     "text": [
      "                            OLS Regression Results                            \n",
      "==============================================================================\n",
      "Dep. Variable:          Apple Returns   R-squared:                       0.431\n",
      "Model:                            OLS   Adj. R-squared:                  0.431\n",
      "Method:                 Least Squares   F-statistic:                     1907.\n",
      "Date:                Sat, 15 May 2021   Prob (F-statistic):          1.68e-310\n",
      "Time:                        14:18:07   Log-Likelihood:                 7227.3\n",
      "No. Observations:                2515   AIC:                        -1.445e+04\n",
      "Df Residuals:                    2513   BIC:                        -1.444e+04\n",
      "Df Model:                           1                                         \n",
      "Covariance Type:            nonrobust                                         \n",
      "===================================================================================\n",
      "                      coef    std err          t      P>|t|      [0.025      0.975]\n",
      "-----------------------------------------------------------------------------------\n",
      "const               0.0005      0.000      1.984      0.047    6.34e-06       0.001\n",
      "S&P 500 Returns     1.0789      0.025     43.672      0.000       1.030       1.127\n",
      "==============================================================================\n",
      "Omnibus:                      372.809   Durbin-Watson:                   1.917\n",
      "Prob(Omnibus):                  0.000   Jarque-Bera (JB):             5606.036\n",
      "Skew:                          -0.062   Prob(JB):                         0.00\n",
      "Kurtosis:                      10.313   Cond. No.                         90.6\n",
      "==============================================================================\n",
      "\n",
      "Warnings:\n",
      "[1] Standard Errors assume that the covariance matrix of the errors is correctly specified.\n"
     ]
    }
   ],
   "source": [
    "X = df_returns['S&P 500 Returns'].astype(float)\n",
    "y = df_returns['Apple Returns'].astype(float)\n",
    "\n",
    "X2 = sm.add_constant(X)\n",
    "est = sm.OLS(y, X2)\n",
    "est2 = est.fit()\n",
    "print(est2.summary())"
   ]
  },
  {
   "cell_type": "markdown",
   "metadata": {},
   "source": [
    "#### Calculating Corelation"
   ]
  },
  {
   "cell_type": "code",
   "execution_count": 41,
   "metadata": {},
   "outputs": [
    {
     "name": "stdout",
     "output_type": "stream",
     "text": [
      "                 S&P 500 Returns  Apple Returns\n",
      "S&P 500 Returns         1.000000       0.656869\n",
      "Apple Returns           0.656869       1.000000\n"
     ]
    }
   ],
   "source": [
    "df_returns['S&P 500 Returns'] = df_returns['S&P 500 Returns'].astype(float)\n",
    "df_returns['Apple Returns'] = df_returns['Apple Returns'].astype(float)\n",
    "correlation = df_returns.corr()\n",
    "print(correlation)"
   ]
  },
  {
   "cell_type": "code",
   "execution_count": null,
   "metadata": {},
   "outputs": [],
   "source": []
  }
 ],
 "metadata": {
  "kernelspec": {
   "display_name": "Python 3",
   "language": "python",
   "name": "python3"
  },
  "language_info": {
   "codemirror_mode": {
    "name": "ipython",
    "version": 3
   },
   "file_extension": ".py",
   "mimetype": "text/x-python",
   "name": "python",
   "nbconvert_exporter": "python",
   "pygments_lexer": "ipython3",
   "version": "3.7.7"
  }
 },
 "nbformat": 4,
 "nbformat_minor": 4
}
